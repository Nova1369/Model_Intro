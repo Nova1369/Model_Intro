{
 "cells": [
  {
   "cell_type": "code",
   "execution_count": 1,
   "id": "6b3ae997",
   "metadata": {},
   "outputs": [],
   "source": [
    "!pip install keras\n",
    "!pip install tensorflow"
   ]
  },
  {
   "cell_type": "code",
   "execution_count": 2,
   "id": "109b5c13",
   "metadata": {},
   "outputs": [
    {
     "name": "stderr",
     "output_type": "stream",
     "text": [
      "C:\\ProgramData\\Anaconda3\\lib\\site-packages\\scipy\\__init__.py:155: UserWarning: A NumPy version >=1.18.5 and <1.25.0 is required for this version of SciPy (detected version 1.26.3\n",
      "  warnings.warn(f\"A NumPy version >={np_minversion} and <{np_maxversion}\"\n"
     ]
    },
    {
     "name": "stdout",
     "output_type": "stream",
     "text": [
      "WARNING:tensorflow:From C:\\ProgramData\\Anaconda3\\lib\\site-packages\\keras\\src\\losses.py:2976: The name tf.losses.sparse_softmax_cross_entropy is deprecated. Please use tf.compat.v1.losses.sparse_softmax_cross_entropy instead.\n",
      "\n"
     ]
    }
   ],
   "source": [
    "import tensorflow as tf\n",
    "from tensorflow.keras import utils\n",
    "from tensorflow.keras.datasets import mnist \n",
    "import numpy as np\n",
    "import keras"
   ]
  },
  {
   "cell_type": "code",
   "execution_count": 3,
   "id": "e084dd5f",
   "metadata": {},
   "outputs": [],
   "source": [
    "# the data, shuffled and split between train and test sets \n",
    "(X_train, y_train), (X_test, y_test) = mnist.load_data()"
   ]
  },
  {
   "cell_type": "code",
   "execution_count": 4,
   "id": "7f5af0f6",
   "metadata": {},
   "outputs": [],
   "source": [
    "X_train = X_train.reshape(X_train.shape[0], X_train.shape[1]*X_train.shape[2]) \n",
    "X_test = X_test.reshape(X_test.shape[0], X_test.shape[1]*X_test.shape[2]) "
   ]
  },
  {
   "cell_type": "code",
   "execution_count": 5,
   "id": "b656e26d",
   "metadata": {},
   "outputs": [
    {
     "name": "stdout",
     "output_type": "stream",
     "text": [
      "Number of training examples : 60000 and each image is of shape (784)\n",
      "Number of test examples : 10000 and each image is of shape (784)\n"
     ]
    }
   ],
   "source": [
    "print(\"Number of training examples :\", X_train.shape[0], \"and each image is of shape (%d)\"%(X_train.shape[1]))\n",
    "print(\"Number of test examples :\", X_test.shape[0], \"and each image is of shape (%d)\"%(X_test.shape[1]))"
   ]
  },
  {
   "cell_type": "code",
   "execution_count": 6,
   "id": "48161dbe",
   "metadata": {},
   "outputs": [],
   "source": [
    "y_train = keras.utils.to_categorical(y_train, 10)\n",
    "y_test = keras.utils.to_categorical(y_test, 10)"
   ]
  },
  {
   "cell_type": "code",
   "execution_count": 7,
   "id": "779db18a",
   "metadata": {},
   "outputs": [],
   "source": [
    "X_train = X_train/255\n",
    "X_test = X_test/255"
   ]
  },
  {
   "cell_type": "code",
   "execution_count": 8,
   "id": "280693ed",
   "metadata": {},
   "outputs": [],
   "source": [
    "import keras\n",
    "from tensorflow.keras.models import Sequential \n",
    "from tensorflow.keras.layers import Dense, Activation, Dropout"
   ]
  },
  {
   "cell_type": "code",
   "execution_count": 9,
   "id": "4cb972b1",
   "metadata": {},
   "outputs": [],
   "source": [
    "output_dim = 10\n",
    "input_dim = X_train.shape[1]\n",
    "\n",
    "batch_size = 32 \n",
    "nb_epoch = 5"
   ]
  },
  {
   "cell_type": "markdown",
   "id": "fef6bc6f",
   "metadata": {},
   "source": [
    "# Q1"
   ]
  },
  {
   "cell_type": "markdown",
   "id": "7198fa88",
   "metadata": {},
   "source": [
    "# Model-1"
   ]
  },
  {
   "cell_type": "code",
   "execution_count": 29,
   "id": "e4c1518e",
   "metadata": {},
   "outputs": [],
   "source": [
    "def Model1():\n",
    "    model = Sequential()\n",
    "    model.add(Dense(128, activation='sigmoid', input_shape=(input_dim,)))\n",
    "    model.add(Dropout(0.5))\n",
    "    model.add(Dense(64, activation='tanh'))\n",
    "    model.add(Dropout(0.4))\n",
    "    model.add(Dense(32, activation='relu'))\n",
    "    model.add(Dropout(0.3))\n",
    "    model.add(Dense(16, activation='selu'))\n",
    "    model.add(Dropout(0.1))\n",
    "    model.add(Dense(10, activation='softmax'))\n",
    "    model.compile(loss=keras.losses.categorical_crossentropy,optimizer=keras.optimizers.SGD(),metrics=['accuracy'])\n",
    "    model.fit(X_train, y_train, batch_size=32, epochs=5,verbose=1,validation_data=(X_test, y_test))\n",
    "    score = model.evaluate(X_test, y_test, verbose=0)\n",
    "    \n",
    "    return score[1]"
   ]
  },
  {
   "cell_type": "code",
   "execution_count": 33,
   "id": "df7db41e",
   "metadata": {},
   "outputs": [
    {
     "name": "stdout",
     "output_type": "stream",
     "text": [
      "Epoch 1/5\n",
      "1875/1875 [==============================] - 4s 2ms/step - loss: 2.2802 - accuracy: 0.1530 - val_loss: 1.8659 - val_accuracy: 0.5109\n",
      "Epoch 2/5\n",
      "1875/1875 [==============================] - 3s 2ms/step - loss: 1.6614 - accuracy: 0.3854 - val_loss: 0.9957 - val_accuracy: 0.6635\n",
      "Epoch 3/5\n",
      "1875/1875 [==============================] - 4s 2ms/step - loss: 1.2331 - accuracy: 0.5441 - val_loss: 0.7842 - val_accuracy: 0.7482\n",
      "Epoch 4/5\n",
      "1875/1875 [==============================] - 3s 2ms/step - loss: 1.0473 - accuracy: 0.6297 - val_loss: 0.6774 - val_accuracy: 0.7908\n",
      "Epoch 5/5\n",
      "1875/1875 [==============================] - 3s 2ms/step - loss: 0.9437 - accuracy: 0.6775 - val_loss: 0.6025 - val_accuracy: 0.8316\n",
      "Epoch 1/5\n",
      "1875/1875 [==============================] - 4s 2ms/step - loss: 2.3069 - accuracy: 0.1295 - val_loss: 2.1660 - val_accuracy: 0.3546\n",
      "Epoch 2/5\n",
      "1875/1875 [==============================] - 4s 2ms/step - loss: 1.8485 - accuracy: 0.3177 - val_loss: 1.0951 - val_accuracy: 0.6372\n",
      "Epoch 3/5\n",
      "1875/1875 [==============================] - 4s 2ms/step - loss: 1.3150 - accuracy: 0.5232 - val_loss: 0.7835 - val_accuracy: 0.7584\n",
      "Epoch 4/5\n",
      "1875/1875 [==============================] - 4s 2ms/step - loss: 1.0620 - accuracy: 0.6319 - val_loss: 0.6181 - val_accuracy: 0.8184\n",
      "Epoch 5/5\n",
      "1875/1875 [==============================] - 4s 2ms/step - loss: 0.9092 - accuracy: 0.6956 - val_loss: 0.5307 - val_accuracy: 0.8461\n",
      "Epoch 1/5\n",
      "1875/1875 [==============================] - 4s 2ms/step - loss: 2.2447 - accuracy: 0.1582 - val_loss: 1.7487 - val_accuracy: 0.3665\n",
      "Epoch 2/5\n",
      "1875/1875 [==============================] - 4s 2ms/step - loss: 1.7391 - accuracy: 0.3343 - val_loss: 1.1884 - val_accuracy: 0.6133\n",
      "Epoch 3/5\n",
      "1875/1875 [==============================] - 4s 2ms/step - loss: 1.3421 - accuracy: 0.5001 - val_loss: 0.8256 - val_accuracy: 0.7530\n",
      "Epoch 4/5\n",
      "1875/1875 [==============================] - 4s 2ms/step - loss: 1.1040 - accuracy: 0.6057 - val_loss: 0.6689 - val_accuracy: 0.7988\n",
      "Epoch 5/5\n",
      "1875/1875 [==============================] - 4s 2ms/step - loss: 0.9570 - accuracy: 0.6719 - val_loss: 0.5777 - val_accuracy: 0.8324\n",
      "Epoch 1/5\n",
      "1875/1875 [==============================] - 4s 2ms/step - loss: 2.2945 - accuracy: 0.1391 - val_loss: 2.0184 - val_accuracy: 0.3279\n",
      "Epoch 2/5\n",
      "1875/1875 [==============================] - 4s 2ms/step - loss: 1.7706 - accuracy: 0.3546 - val_loss: 1.0353 - val_accuracy: 0.6674\n",
      "Epoch 3/5\n",
      "1875/1875 [==============================] - 4s 2ms/step - loss: 1.2454 - accuracy: 0.5564 - val_loss: 0.7291 - val_accuracy: 0.7942\n",
      "Epoch 4/5\n",
      "1875/1875 [==============================] - 4s 2ms/step - loss: 1.0132 - accuracy: 0.6567 - val_loss: 0.5878 - val_accuracy: 0.8380\n",
      "Epoch 5/5\n",
      "1875/1875 [==============================] - 4s 2ms/step - loss: 0.8905 - accuracy: 0.7075 - val_loss: 0.5168 - val_accuracy: 0.8578\n",
      "Epoch 1/5\n",
      "1875/1875 [==============================] - 5s 2ms/step - loss: 2.2928 - accuracy: 0.1381 - val_loss: 2.0372 - val_accuracy: 0.3118\n",
      "Epoch 2/5\n",
      "1875/1875 [==============================] - 4s 2ms/step - loss: 1.9129 - accuracy: 0.2959 - val_loss: 1.1732 - val_accuracy: 0.6206\n",
      "Epoch 3/5\n",
      "1875/1875 [==============================] - 4s 2ms/step - loss: 1.3675 - accuracy: 0.4918 - val_loss: 0.8289 - val_accuracy: 0.7233\n",
      "Epoch 4/5\n",
      "1875/1875 [==============================] - 4s 2ms/step - loss: 1.1116 - accuracy: 0.5939 - val_loss: 0.6907 - val_accuracy: 0.7914\n",
      "Epoch 5/5\n",
      "1875/1875 [==============================] - 4s 2ms/step - loss: 0.9705 - accuracy: 0.6587 - val_loss: 0.5918 - val_accuracy: 0.8285\n"
     ]
    },
    {
     "data": {
      "text/plain": [
       "0.8392799973487854"
      ]
     },
     "execution_count": 33,
     "metadata": {},
     "output_type": "execute_result"
    }
   ],
   "source": [
    "res = np.zeros(5)\n",
    "for i in range(5):\n",
    "    res[i] = Model1()\n",
    "np.mean(res)"
   ]
  },
  {
   "cell_type": "markdown",
   "id": "539cd379",
   "metadata": {},
   "source": [
    "# Model-2"
   ]
  },
  {
   "cell_type": "code",
   "execution_count": 34,
   "id": "79ce2f42",
   "metadata": {},
   "outputs": [],
   "source": [
    "def Model2():\n",
    "    model = Sequential()\n",
    "    model.add(Dense(128, activation='sigmoid', input_shape=(input_dim,)))\n",
    "    model.add(Dropout(0.5))\n",
    "    model.add(Dense(64, activation='tanh'))\n",
    "    model.add(Dropout(0.4))\n",
    "    model.add(Dense(32, activation='relu'))\n",
    "    model.add(Dropout(0.3))\n",
    "    model.add(Dense(16, activation='selu'))\n",
    "    model.add(Dropout(0.1))\n",
    "    model.add(Dense(10, activation='softmax'))\n",
    "    model.compile(loss=keras.losses.categorical_crossentropy,optimizer=keras.optimizers.Adam(),metrics=['accuracy'])\n",
    "    model.fit(X_train, y_train, batch_size=32, epochs=5,verbose=1,validation_data=(X_test, y_test))\n",
    "    score = model.evaluate(X_test, y_test, verbose=0)\n",
    "    \n",
    "    return score[1]"
   ]
  },
  {
   "cell_type": "code",
   "execution_count": 35,
   "id": "98385bd5",
   "metadata": {},
   "outputs": [
    {
     "name": "stdout",
     "output_type": "stream",
     "text": [
      "Epoch 1/5\n",
      "1875/1875 [==============================] - 5s 2ms/step - loss: 0.8873 - accuracy: 0.7098 - val_loss: 0.2812 - val_accuracy: 0.9195\n",
      "Epoch 2/5\n",
      "1875/1875 [==============================] - 4s 2ms/step - loss: 0.4338 - accuracy: 0.8776 - val_loss: 0.2198 - val_accuracy: 0.9359\n",
      "Epoch 3/5\n",
      "1875/1875 [==============================] - 5s 2ms/step - loss: 0.3488 - accuracy: 0.9039 - val_loss: 0.1795 - val_accuracy: 0.9496\n",
      "Epoch 4/5\n",
      "1875/1875 [==============================] - 5s 2ms/step - loss: 0.3063 - accuracy: 0.9153 - val_loss: 0.1653 - val_accuracy: 0.9543\n",
      "Epoch 5/5\n",
      "1875/1875 [==============================] - 4s 2ms/step - loss: 0.2762 - accuracy: 0.9250 - val_loss: 0.1540 - val_accuracy: 0.9590\n",
      "Epoch 1/5\n",
      "1875/1875 [==============================] - 6s 3ms/step - loss: 0.8865 - accuracy: 0.7063 - val_loss: 0.3021 - val_accuracy: 0.9163\n",
      "Epoch 2/5\n",
      "1875/1875 [==============================] - 4s 2ms/step - loss: 0.4371 - accuracy: 0.8758 - val_loss: 0.2235 - val_accuracy: 0.9369\n",
      "Epoch 3/5\n",
      "1875/1875 [==============================] - 4s 2ms/step - loss: 0.3601 - accuracy: 0.9021 - val_loss: 0.1960 - val_accuracy: 0.9465\n",
      "Epoch 4/5\n",
      "1875/1875 [==============================] - 4s 2ms/step - loss: 0.3145 - accuracy: 0.9168 - val_loss: 0.1804 - val_accuracy: 0.9494\n",
      "Epoch 5/5\n",
      "1875/1875 [==============================] - 5s 2ms/step - loss: 0.2895 - accuracy: 0.9237 - val_loss: 0.1654 - val_accuracy: 0.9561\n",
      "Epoch 1/5\n",
      "1875/1875 [==============================] - 5s 2ms/step - loss: 0.9034 - accuracy: 0.7031 - val_loss: 0.2886 - val_accuracy: 0.9175\n",
      "Epoch 2/5\n",
      "1875/1875 [==============================] - 5s 2ms/step - loss: 0.4373 - accuracy: 0.8768 - val_loss: 0.2142 - val_accuracy: 0.9404\n",
      "Epoch 3/5\n",
      "1875/1875 [==============================] - 5s 2ms/step - loss: 0.3490 - accuracy: 0.9039 - val_loss: 0.1807 - val_accuracy: 0.9505\n",
      "Epoch 4/5\n",
      "1875/1875 [==============================] - 4s 2ms/step - loss: 0.3066 - accuracy: 0.9165 - val_loss: 0.1726 - val_accuracy: 0.9515\n",
      "Epoch 5/5\n",
      "1875/1875 [==============================] - 5s 2ms/step - loss: 0.2793 - accuracy: 0.9244 - val_loss: 0.1506 - val_accuracy: 0.9594\n",
      "Epoch 1/5\n",
      "1875/1875 [==============================] - 5s 3ms/step - loss: 0.8664 - accuracy: 0.7140 - val_loss: 0.2748 - val_accuracy: 0.9239\n",
      "Epoch 2/5\n",
      "1875/1875 [==============================] - 4s 2ms/step - loss: 0.4373 - accuracy: 0.8765 - val_loss: 0.2189 - val_accuracy: 0.9377\n",
      "Epoch 3/5\n",
      "1875/1875 [==============================] - 5s 2ms/step - loss: 0.3564 - accuracy: 0.9019 - val_loss: 0.1822 - val_accuracy: 0.9494\n",
      "Epoch 4/5\n",
      "1875/1875 [==============================] - 5s 2ms/step - loss: 0.3077 - accuracy: 0.9159 - val_loss: 0.1638 - val_accuracy: 0.9533\n",
      "Epoch 5/5\n",
      "1875/1875 [==============================] - 4s 2ms/step - loss: 0.2797 - accuracy: 0.9248 - val_loss: 0.1472 - val_accuracy: 0.9588\n",
      "Epoch 1/5\n",
      "1875/1875 [==============================] - 5s 2ms/step - loss: 0.8994 - accuracy: 0.7079 - val_loss: 0.2886 - val_accuracy: 0.9205\n",
      "Epoch 2/5\n",
      "1875/1875 [==============================] - 5s 2ms/step - loss: 0.4368 - accuracy: 0.8768 - val_loss: 0.2200 - val_accuracy: 0.9369\n",
      "Epoch 3/5\n",
      "1875/1875 [==============================] - 5s 2ms/step - loss: 0.3545 - accuracy: 0.9018 - val_loss: 0.1864 - val_accuracy: 0.9466\n",
      "Epoch 4/5\n",
      "1875/1875 [==============================] - 4s 2ms/step - loss: 0.3142 - accuracy: 0.9149 - val_loss: 0.1689 - val_accuracy: 0.9527\n",
      "Epoch 5/5\n",
      "1875/1875 [==============================] - 4s 2ms/step - loss: 0.2797 - accuracy: 0.9241 - val_loss: 0.1495 - val_accuracy: 0.9592\n"
     ]
    },
    {
     "data": {
      "text/plain": [
       "0.9585000038146972"
      ]
     },
     "execution_count": 35,
     "metadata": {},
     "output_type": "execute_result"
    }
   ],
   "source": [
    "res = np.zeros(5)\n",
    "for i in range(5):\n",
    "    res[i] = Model2()\n",
    "np.mean(res)"
   ]
  },
  {
   "cell_type": "markdown",
   "id": "c2a1d1cd",
   "metadata": {},
   "source": [
    "# Model-3"
   ]
  },
  {
   "cell_type": "code",
   "execution_count": 37,
   "id": "bff07dc5",
   "metadata": {},
   "outputs": [],
   "source": [
    "def Model3():\n",
    "    model = Sequential()\n",
    "    model.add(Dense(128, activation='sigmoid', input_shape=(input_dim,)))\n",
    "    model.add(Dropout(0.5))\n",
    "    model.add(Dense(64, activation='tanh'))\n",
    "    model.add(Dropout(0.4))\n",
    "    model.add(Dense(32, activation='relu'))\n",
    "    model.add(Dropout(0.3))\n",
    "    model.add(Dense(16, activation='selu'))\n",
    "    model.add(Dropout(0.1))\n",
    "    model.add(Dense(10, activation='softmax'))\n",
    "    model.compile(loss=keras.losses.categorical_crossentropy,optimizer=keras.optimizers.AdamW(learning_rate=0.1),metrics=['accuracy'])\n",
    "    model.fit(X_train, y_train, batch_size=32, epochs=5,verbose=1,validation_data=(X_test, y_test))\n",
    "    score = model.evaluate(X_test, y_test, verbose=0)\n",
    "    \n",
    "    return score[1]"
   ]
  },
  {
   "cell_type": "code",
   "execution_count": 38,
   "id": "6aaa2ce2",
   "metadata": {},
   "outputs": [
    {
     "name": "stdout",
     "output_type": "stream",
     "text": [
      "Epoch 1/5\n",
      "1875/1875 [==============================] - 6s 3ms/step - loss: 2.3354 - accuracy: 0.1019 - val_loss: 2.3128 - val_accuracy: 0.1010\n",
      "Epoch 2/5\n",
      "1875/1875 [==============================] - 4s 2ms/step - loss: 2.3398 - accuracy: 0.1004 - val_loss: 2.3142 - val_accuracy: 0.1135\n",
      "Epoch 3/5\n",
      "1875/1875 [==============================] - 4s 2ms/step - loss: 2.3363 - accuracy: 0.1033 - val_loss: 2.3322 - val_accuracy: 0.1032\n",
      "Epoch 4/5\n",
      "1875/1875 [==============================] - 4s 2ms/step - loss: 2.5913 - accuracy: 0.1002 - val_loss: 2.3288 - val_accuracy: 0.1135\n",
      "Epoch 5/5\n",
      "1875/1875 [==============================] - 5s 3ms/step - loss: 2.3198 - accuracy: 0.1031 - val_loss: 2.3281 - val_accuracy: 0.0974\n",
      "Epoch 1/5\n",
      "1875/1875 [==============================] - 5s 2ms/step - loss: 2.3372 - accuracy: 0.1033 - val_loss: 2.3081 - val_accuracy: 0.1032\n",
      "Epoch 2/5\n",
      "1875/1875 [==============================] - 4s 2ms/step - loss: 2.3393 - accuracy: 0.1031 - val_loss: 2.3173 - val_accuracy: 0.1028\n",
      "Epoch 3/5\n",
      "1875/1875 [==============================] - 4s 2ms/step - loss: 2.3382 - accuracy: 0.1002 - val_loss: 2.3089 - val_accuracy: 0.0982\n",
      "Epoch 4/5\n",
      "1875/1875 [==============================] - 4s 2ms/step - loss: 2.3383 - accuracy: 0.1023 - val_loss: 2.3387 - val_accuracy: 0.0980\n",
      "Epoch 5/5\n",
      "1875/1875 [==============================] - 5s 2ms/step - loss: 2.3373 - accuracy: 0.1034 - val_loss: 2.3420 - val_accuracy: 0.0958\n",
      "Epoch 1/5\n",
      "1875/1875 [==============================] - 6s 3ms/step - loss: 2.3389 - accuracy: 0.1022 - val_loss: 2.3407 - val_accuracy: 0.0982\n",
      "Epoch 2/5\n",
      "1875/1875 [==============================] - 4s 2ms/step - loss: 2.3946 - accuracy: 0.1024 - val_loss: 2.3905 - val_accuracy: 0.0892\n",
      "Epoch 3/5\n",
      "1875/1875 [==============================] - 5s 2ms/step - loss: 2.3235 - accuracy: 0.1021 - val_loss: 2.3316 - val_accuracy: 0.0958\n",
      "Epoch 4/5\n",
      "1875/1875 [==============================] - 4s 2ms/step - loss: 2.3346 - accuracy: 0.1022 - val_loss: 2.3210 - val_accuracy: 0.1009\n",
      "Epoch 5/5\n",
      "1875/1875 [==============================] - 5s 2ms/step - loss: 2.3990 - accuracy: 0.1014 - val_loss: 2.3712 - val_accuracy: 0.1135\n",
      "Epoch 1/5\n",
      "1875/1875 [==============================] - 6s 2ms/step - loss: 2.3395 - accuracy: 0.1015 - val_loss: 2.3236 - val_accuracy: 0.1032\n",
      "Epoch 2/5\n",
      "1875/1875 [==============================] - 5s 2ms/step - loss: 2.3375 - accuracy: 0.1020 - val_loss: 2.3740 - val_accuracy: 0.1009\n",
      "Epoch 3/5\n",
      "1875/1875 [==============================] - 5s 2ms/step - loss: 2.3370 - accuracy: 0.1001 - val_loss: 2.3315 - val_accuracy: 0.1032\n",
      "Epoch 4/5\n",
      "1875/1875 [==============================] - 4s 2ms/step - loss: 2.4072 - accuracy: 0.1036 - val_loss: 2.3134 - val_accuracy: 0.0958\n",
      "Epoch 5/5\n",
      "1875/1875 [==============================] - 5s 2ms/step - loss: 2.3258 - accuracy: 0.1012 - val_loss: 2.3119 - val_accuracy: 0.0982\n",
      "Epoch 1/5\n",
      "1875/1875 [==============================] - 6s 3ms/step - loss: 2.3383 - accuracy: 0.1013 - val_loss: 2.3861 - val_accuracy: 0.1135\n",
      "Epoch 2/5\n",
      "1875/1875 [==============================] - 5s 2ms/step - loss: 2.3368 - accuracy: 0.1027 - val_loss: 2.3365 - val_accuracy: 0.0980\n",
      "Epoch 3/5\n",
      "1875/1875 [==============================] - 5s 2ms/step - loss: 2.5133 - accuracy: 0.1036 - val_loss: 2.3343 - val_accuracy: 0.0980\n",
      "Epoch 4/5\n",
      "1875/1875 [==============================] - 5s 2ms/step - loss: 2.3193 - accuracy: 0.1017 - val_loss: 2.3222 - val_accuracy: 0.0974\n",
      "Epoch 5/5\n",
      "1875/1875 [==============================] - 5s 3ms/step - loss: 2.3320 - accuracy: 0.1028 - val_loss: 2.3271 - val_accuracy: 0.1028\n"
     ]
    },
    {
     "data": {
      "text/plain": [
       "0.10153999924659729"
      ]
     },
     "execution_count": 38,
     "metadata": {},
     "output_type": "execute_result"
    }
   ],
   "source": [
    "res = np.zeros(5)\n",
    "for i in range(5):\n",
    "    res[i] = Model3()\n",
    "np.mean(res)"
   ]
  },
  {
   "cell_type": "markdown",
   "id": "f36b2382",
   "metadata": {},
   "source": [
    "# Model-4"
   ]
  },
  {
   "cell_type": "code",
   "execution_count": 39,
   "id": "5f645298",
   "metadata": {},
   "outputs": [],
   "source": [
    "def Model4():\n",
    "    model = Sequential()\n",
    "    model.add(Dense(128, activation='sigmoid', input_shape=(input_dim,)))\n",
    "    model.add(Dropout(0.5))\n",
    "    model.add(Dense(64, activation='tanh'))\n",
    "    model.add(Dropout(0.4))\n",
    "    model.add(Dense(32, activation='relu'))\n",
    "    model.add(Dropout(0.3))\n",
    "    model.add(Dense(16, activation='selu'))\n",
    "    model.add(Dropout(0.1))\n",
    "    model.add(Dense(10, activation='softmax'))\n",
    "    model.compile(loss=keras.losses.categorical_crossentropy,optimizer=keras.optimizers.Nadam(learning_rate=0.1),metrics=['accuracy'])\n",
    "    model.fit(X_train, y_train, batch_size=32, epochs=5,verbose=1,validation_data=(X_test, y_test))\n",
    "    score = model.evaluate(X_test, y_test, verbose=0)\n",
    "    \n",
    "    return score[1]"
   ]
  },
  {
   "cell_type": "code",
   "execution_count": 40,
   "id": "bdb5879b",
   "metadata": {},
   "outputs": [
    {
     "name": "stdout",
     "output_type": "stream",
     "text": [
      "Epoch 1/5\n",
      "1875/1875 [==============================] - 7s 3ms/step - loss: 2.3332 - accuracy: 0.1015 - val_loss: 2.3368 - val_accuracy: 0.0892\n",
      "Epoch 2/5\n",
      "1875/1875 [==============================] - 5s 3ms/step - loss: 2.3276 - accuracy: 0.1012 - val_loss: 2.3252 - val_accuracy: 0.0982\n",
      "Epoch 3/5\n",
      "1875/1875 [==============================] - 5s 3ms/step - loss: 2.3266 - accuracy: 0.1014 - val_loss: 2.3137 - val_accuracy: 0.1135\n",
      "Epoch 4/5\n",
      "1875/1875 [==============================] - 5s 2ms/step - loss: 2.3622 - accuracy: 0.1033 - val_loss: 2.3263 - val_accuracy: 0.1009\n",
      "Epoch 5/5\n",
      "1875/1875 [==============================] - 5s 3ms/step - loss: 2.3633 - accuracy: 0.1028 - val_loss: 2.3171 - val_accuracy: 0.1028\n",
      "Epoch 1/5\n",
      "1875/1875 [==============================] - 6s 3ms/step - loss: 2.3276 - accuracy: 0.1037 - val_loss: 2.3365 - val_accuracy: 0.0982\n",
      "Epoch 2/5\n",
      "1875/1875 [==============================] - 5s 3ms/step - loss: 2.3608 - accuracy: 0.1035 - val_loss: 2.3204 - val_accuracy: 0.1028\n",
      "Epoch 3/5\n",
      "1875/1875 [==============================] - 5s 3ms/step - loss: 2.3233 - accuracy: 0.1016 - val_loss: 2.3182 - val_accuracy: 0.0958\n",
      "Epoch 4/5\n",
      "1875/1875 [==============================] - 5s 3ms/step - loss: 2.3256 - accuracy: 0.1028 - val_loss: 2.3414 - val_accuracy: 0.1135\n",
      "Epoch 5/5\n",
      "1875/1875 [==============================] - 5s 2ms/step - loss: 2.3280 - accuracy: 0.1022 - val_loss: 2.3561 - val_accuracy: 0.0980\n",
      "Epoch 1/5\n",
      "1875/1875 [==============================] - 6s 3ms/step - loss: 2.3286 - accuracy: 0.1015 - val_loss: 2.3133 - val_accuracy: 0.1032\n",
      "Epoch 2/5\n",
      "1875/1875 [==============================] - 5s 3ms/step - loss: 2.3269 - accuracy: 0.1013 - val_loss: 2.3178 - val_accuracy: 0.1135\n",
      "Epoch 3/5\n",
      "1875/1875 [==============================] - 5s 2ms/step - loss: 2.3283 - accuracy: 0.1017 - val_loss: 2.3290 - val_accuracy: 0.1009\n",
      "Epoch 4/5\n",
      "1875/1875 [==============================] - 5s 2ms/step - loss: 2.3282 - accuracy: 0.1007 - val_loss: 2.3144 - val_accuracy: 0.1010\n",
      "Epoch 5/5\n",
      "1875/1875 [==============================] - 5s 3ms/step - loss: 2.3278 - accuracy: 0.1017 - val_loss: 2.3125 - val_accuracy: 0.0974\n",
      "Epoch 1/5\n",
      "1875/1875 [==============================] - 6s 3ms/step - loss: 2.3286 - accuracy: 0.1015 - val_loss: 2.3744 - val_accuracy: 0.0958\n",
      "Epoch 2/5\n",
      "1875/1875 [==============================] - 5s 3ms/step - loss: 2.3278 - accuracy: 0.1038 - val_loss: 2.3361 - val_accuracy: 0.1010\n",
      "Epoch 3/5\n",
      "1875/1875 [==============================] - 5s 3ms/step - loss: 2.3277 - accuracy: 0.1034 - val_loss: 2.3448 - val_accuracy: 0.1135\n",
      "Epoch 4/5\n",
      "1875/1875 [==============================] - 5s 3ms/step - loss: 2.3285 - accuracy: 0.1038 - val_loss: 2.3343 - val_accuracy: 0.1010\n",
      "Epoch 5/5\n",
      "1875/1875 [==============================] - 5s 3ms/step - loss: 2.3280 - accuracy: 0.0991 - val_loss: 2.3296 - val_accuracy: 0.1135\n",
      "Epoch 1/5\n",
      "1875/1875 [==============================] - 7s 3ms/step - loss: 2.3276 - accuracy: 0.1014 - val_loss: 2.3166 - val_accuracy: 0.1135\n",
      "Epoch 2/5\n",
      "1875/1875 [==============================] - 5s 3ms/step - loss: 2.3281 - accuracy: 0.1018 - val_loss: 2.3406 - val_accuracy: 0.1032\n",
      "Epoch 3/5\n",
      "1875/1875 [==============================] - 5s 3ms/step - loss: 2.3518 - accuracy: 0.1029 - val_loss: 2.3124 - val_accuracy: 0.1009\n",
      "Epoch 4/5\n",
      "1875/1875 [==============================] - 5s 3ms/step - loss: 2.3359 - accuracy: 0.1045 - val_loss: 2.3141 - val_accuracy: 0.1032\n",
      "Epoch 5/5\n",
      "1875/1875 [==============================] - 5s 3ms/step - loss: 2.3239 - accuracy: 0.1014 - val_loss: 2.3300 - val_accuracy: 0.1010\n"
     ]
    },
    {
     "data": {
      "text/plain": [
       "0.1025399997830391"
      ]
     },
     "execution_count": 40,
     "metadata": {},
     "output_type": "execute_result"
    }
   ],
   "source": [
    "res = np.zeros(5)\n",
    "for i in range(5):\n",
    "    res[i] = Model4()\n",
    "np.mean(res)"
   ]
  },
  {
   "cell_type": "markdown",
   "id": "36a965c5",
   "metadata": {},
   "source": [
    "# Q2"
   ]
  },
  {
   "cell_type": "code",
   "execution_count": 16,
   "id": "ea1380db",
   "metadata": {},
   "outputs": [
    {
     "name": "stdout",
     "output_type": "stream",
     "text": [
      "Requirement already satisfied: keras-tuner in c:\\programdata\\anaconda3\\lib\\site-packages (1.4.6)\n",
      "Requirement already satisfied: keras in c:\\programdata\\anaconda3\\lib\\site-packages (from keras-tuner) (2.15.0)\n",
      "Requirement already satisfied: packaging in c:\\programdata\\anaconda3\\lib\\site-packages (from keras-tuner) (21.3)\n",
      "Requirement already satisfied: requests in c:\\programdata\\anaconda3\\lib\\site-packages (from keras-tuner) (2.28.1)\n",
      "Requirement already satisfied: kt-legacy in c:\\programdata\\anaconda3\\lib\\site-packages (from keras-tuner) (1.0.5)\n",
      "Requirement already satisfied: pyparsing!=3.0.5,>=2.0.2 in c:\\programdata\\anaconda3\\lib\\site-packages (from packaging->keras-tuner) (3.0.9)\n",
      "Requirement already satisfied: certifi>=2017.4.17 in c:\\programdata\\anaconda3\\lib\\site-packages (from requests->keras-tuner) (2022.9.14)\n",
      "Requirement already satisfied: charset-normalizer<3,>=2 in c:\\programdata\\anaconda3\\lib\\site-packages (from requests->keras-tuner) (2.0.4)\n",
      "Requirement already satisfied: idna<4,>=2.5 in c:\\programdata\\anaconda3\\lib\\site-packages (from requests->keras-tuner) (3.3)\n",
      "Requirement already satisfied: urllib3<1.27,>=1.21.1 in c:\\programdata\\anaconda3\\lib\\site-packages (from requests->keras-tuner) (1.26.11)\n"
     ]
    }
   ],
   "source": [
    "!pip install keras-tuner"
   ]
  },
  {
   "cell_type": "code",
   "execution_count": 13,
   "id": "3cbc779e",
   "metadata": {},
   "outputs": [],
   "source": [
    "import tensorflow as tf\n",
    "from tensorflow.keras import utils\n",
    "from tensorflow.keras import layers\n",
    "from tensorflow.keras.datasets import mnist \n",
    "import numpy as np\n",
    "import keras\n",
    "from tensorflow.keras.utils import to_categorical\n",
    "from kerastuner.tuners import RandomSearch"
   ]
  },
  {
   "cell_type": "code",
   "execution_count": 2,
   "id": "bf45ee85",
   "metadata": {},
   "outputs": [],
   "source": [
    "# the data, shuffled and split between train and test sets \n",
    "(X_train, y_train), (X_test, y_test) = mnist.load_data()"
   ]
  },
  {
   "cell_type": "code",
   "execution_count": 3,
   "id": "36befe00",
   "metadata": {},
   "outputs": [],
   "source": [
    "X_train = X_train.reshape(X_train.shape[0], X_train.shape[1]*X_train.shape[2]) \n",
    "X_test = X_test.reshape(X_test.shape[0], X_test.shape[1]*X_test.shape[2]) "
   ]
  },
  {
   "cell_type": "code",
   "execution_count": 4,
   "id": "7a1c5db8",
   "metadata": {},
   "outputs": [
    {
     "name": "stdout",
     "output_type": "stream",
     "text": [
      "Number of training examples : 60000 and each image is of shape (784)\n",
      "Number of test examples : 10000 and each image is of shape (784)\n"
     ]
    }
   ],
   "source": [
    "print(\"Number of training examples :\", X_train.shape[0], \"and each image is of shape (%d)\"%(X_train.shape[1]))\n",
    "print(\"Number of test examples :\", X_test.shape[0], \"and each image is of shape (%d)\"%(X_test.shape[1]))"
   ]
  },
  {
   "cell_type": "code",
   "execution_count": 6,
   "id": "46fb3c3a",
   "metadata": {},
   "outputs": [],
   "source": [
    "y_train = keras.utils.to_categorical(y_train, 10)\n",
    "y_test = keras.utils.to_categorical(y_test, 10)"
   ]
  },
  {
   "cell_type": "code",
   "execution_count": 7,
   "id": "3f094105",
   "metadata": {},
   "outputs": [],
   "source": [
    "X_train = X_train/255\n",
    "X_test = X_test/255"
   ]
  },
  {
   "cell_type": "code",
   "execution_count": 15,
   "id": "33f54479",
   "metadata": {},
   "outputs": [
    {
     "name": "stdout",
     "output_type": "stream",
     "text": [
      "Trial 5 Complete [00h 00m 21s]\n",
      "val_accuracy: 0.9624000191688538\n",
      "\n",
      "Best val_accuracy So Far: 0.9624000191688538\n",
      "Total elapsed time: 00h 01m 45s\n",
      "Epoch 1/10\n",
      "3750/3750 [==============================] - 7s 2ms/step - loss: 2.3046 - accuracy: 0.1060 - val_loss: 2.3054 - val_accuracy: 0.1135\n",
      "Epoch 2/10\n",
      "3750/3750 [==============================] - 7s 2ms/step - loss: 2.3040 - accuracy: 0.1080 - val_loss: 2.3049 - val_accuracy: 0.0980\n",
      "Epoch 3/10\n",
      "3750/3750 [==============================] - 7s 2ms/step - loss: 2.3040 - accuracy: 0.1074 - val_loss: 2.3036 - val_accuracy: 0.0980\n",
      "Epoch 4/10\n",
      "3750/3750 [==============================] - 7s 2ms/step - loss: 2.3036 - accuracy: 0.1080 - val_loss: 2.3059 - val_accuracy: 0.1135\n",
      "Epoch 5/10\n",
      "3750/3750 [==============================] - 7s 2ms/step - loss: 2.3036 - accuracy: 0.1071 - val_loss: 2.3039 - val_accuracy: 0.1135\n",
      "Epoch 6/10\n",
      "3750/3750 [==============================] - 7s 2ms/step - loss: 2.3033 - accuracy: 0.1084 - val_loss: 2.3028 - val_accuracy: 0.1028\n",
      "Epoch 7/10\n",
      "3750/3750 [==============================] - 6s 2ms/step - loss: 2.3034 - accuracy: 0.1082 - val_loss: 2.3039 - val_accuracy: 0.1028\n",
      "Epoch 8/10\n",
      "3750/3750 [==============================] - 6s 2ms/step - loss: 2.3036 - accuracy: 0.1065 - val_loss: 2.3027 - val_accuracy: 0.1135\n",
      "Epoch 9/10\n",
      "3750/3750 [==============================] - 6s 2ms/step - loss: 2.3033 - accuracy: 0.1059 - val_loss: 2.3025 - val_accuracy: 0.1009\n",
      "Epoch 10/10\n",
      "3750/3750 [==============================] - 6s 2ms/step - loss: 2.3035 - accuracy: 0.1076 - val_loss: 2.3035 - val_accuracy: 0.1010\n",
      "313/313 [==============================] - 1s 1ms/step - loss: 2.3035 - accuracy: 0.1010\n",
      "Test loss: 2.3034825325012207\n",
      "Test accuracy: 0.10100000351667404\n"
     ]
    }
   ],
   "source": [
    "import tensorflow as tf\n",
    "from tensorflow import keras\n",
    "from tensorflow.keras import layers\n",
    "from kerastuner.tuners import RandomSearch\n",
    "from tensorflow.keras.datasets import mnist\n",
    "\n",
    " \n",
    "# Load MNIST dataset\n",
    "(x_train, y_train), (x_test, y_test) = mnist.load_data()\n",
    "x_train, x_test = x_train / 255.0, x_test / 255.0\n",
    " \n",
    "def build_model(hp):\n",
    "    model = keras.Sequential()\n",
    "    model.add(layers.Flatten(input_shape=(28, 28)))\n",
    " \n",
    "    # Tune the first hidden layer neurons\n",
    "    hp_units = hp.Int('units', min_value=250, max_value=260, step=2)\n",
    "    model.add(layers.Dense(units=hp_units, activation='sigmoid'))\n",
    " \n",
    "    model.add(layers.Dense(16, activation='tanh'))\n",
    "    model.add(layers.Dense(8, activation='relu'))\n",
    "    model.add(layers.Dense(4, activation='selu'))\n",
    "    model.add(layers.Dense(10, activation='softmax'))\n",
    " \n",
    "    # Tune the learning rate and batch size\n",
    "    hp_learning_rate = hp.Choice('learning_rate', values=[0.1, 0.01, 0.15])\n",
    "    hp_batch_size = hp.Choice('batch_size', values=[4, 8, 16])\n",
    " \n",
    "    model.compile(optimizer=tf.keras.optimizers.SGD(learning_rate=hp_learning_rate),\n",
    "                  loss='sparse_categorical_crossentropy',\n",
    "                  metrics=['accuracy'])\n",
    " \n",
    "    return model\n",
    " \n",
    "# Define the tuner\n",
    "tuner = RandomSearch(\n",
    "    build_model,\n",
    "    objective='val_accuracy',\n",
    "    max_trials=5,\n",
    "    executions_per_trial=1,\n",
    "    directory='keras_tuner_dir',\n",
    "    project_name='mnist_tuning')\n",
    " \n",
    "# Perform hyperparameter search\n",
    "tuner.search(x_train, y_train,\n",
    "             epochs=5,\n",
    "             validation_data=(x_test, y_test))\n",
    " \n",
    "# Get the best hyperparameters\n",
    "best_hps = tuner.get_best_hyperparameters(num_trials=1)[0]\n",
    " \n",
    "# Build the model with the best hyperparameters\n",
    "model = tuner.hypermodel.build(best_hps)\n",
    " \n",
    "# Train the final model\n",
    "model.fit(x_train, y_train,\n",
    "          epochs=10,\n",
    "          batch_size=best_hps.get('batch_size'),\n",
    "          validation_data=(x_test, y_test))\n",
    " \n",
    "# Evaluate the best model on the test set\n",
    "eval_result = model.evaluate(x_test, y_test)\n",
    "print(\"Test loss:\", eval_result[0])\n",
    "print(\"Test accuracy:\", eval_result[1])"
   ]
  },
  {
   "cell_type": "code",
   "execution_count": null,
   "id": "64280a91",
   "metadata": {},
   "outputs": [],
   "source": []
  }
 ],
 "metadata": {
  "kernelspec": {
   "display_name": "Python 3 (ipykernel)",
   "language": "python",
   "name": "python3"
  },
  "language_info": {
   "codemirror_mode": {
    "name": "ipython",
    "version": 3
   },
   "file_extension": ".py",
   "mimetype": "text/x-python",
   "name": "python",
   "nbconvert_exporter": "python",
   "pygments_lexer": "ipython3",
   "version": "3.9.13"
  }
 },
 "nbformat": 4,
 "nbformat_minor": 5
}
